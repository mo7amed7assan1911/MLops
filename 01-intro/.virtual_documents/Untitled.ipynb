import pandas as pd
import seaborn as sns
import matplotlib.pyplot as plt
import warnings



# Some configrations
pd.options.display.float_format = '{:0.2f}'.format
warnings.filterwarnings('ignore')

sns.set()


df = pd.read_parquet("https://d37ci6vzurychx.cloudfront.net/trip-data/yellow_tripdata_2023-01.parquet")
df.head()


df['duration'] = (df.tpep_dropoff_datetime - df.tpep_pickup_datetime).dt.total_seconds() / 60


# lets drop the 2 columns we used to get the duration

df.drop(columns=['tpep_dropoff_datetime', 'tpep_pickup_datetime'], inplace=True)


df.duration.describe(percentiles=[0.05, 0.95, 0.98, 0.99])





df = df.query('duration <= 60 and duration >= 1')


sns.distplot(df.duration)


df.shape


df.isna().sum()





df = df.dropna()


df.info()


df2 = df.select_dtypes(include=np.number)


from sklearn.model_selection import train_test_split

x_train, x_test, y_train, y_test = train_test_split(df2.drop(columns='duration'), df2.duration, test_size=0.2)


from sklearn.tree import DecisionTreeRegressor

model = DecisionTreeRegressor()
model.fit(x_train, y_train)


y_pred = model.predict(x_test)


sns.distplot(y_pred, label = 'predictions');
sns.distplot(y_test, label = 'real');

plt.legend();


y_pred


from sklearn.metrics import mean_squared_error

mean_squared_error(y_test, y_pred, squared=False)





from xgboost import XGBRegressor
model_xgb = XGBRegressor()

model_xgb.fit(x_train, y_train)


y_pred_xgb = model_xgb.predict(x_test)


mean_squared_error(y_test, y_pred_xgb, squared=False)





import pickle
with open('models/xgb_model.bin', 'wb') as file:
    pickle.dump(model_xgb, file)
